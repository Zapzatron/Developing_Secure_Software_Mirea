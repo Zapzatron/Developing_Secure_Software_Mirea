{
  "nbformat": 4,
  "nbformat_minor": 0,
  "metadata": {
    "colab": {
      "provenance": []
    },
    "kernelspec": {
      "name": "python3",
      "display_name": "Python 3"
    },
    "language_info": {
      "name": "python"
    }
  },
  "cells": [
    {
      "cell_type": "markdown",
      "source": [
        "1. Вывести информацию в консоль о логических дисках, именах, метке тома, размере и типе файловой системы."
      ],
      "metadata": {
        "id": "Iat34G4zC89F"
      }
    },
    {
      "cell_type": "code",
      "source": [
        "!pip install psutil"
      ],
      "metadata": {
        "colab": {
          "base_uri": "https://localhost:8080/"
        },
        "id": "nMh8O92DDMpy",
        "outputId": "59a9d2cc-7c17-442d-def3-98c692a2b8bc"
      },
      "execution_count": 1,
      "outputs": [
        {
          "output_type": "stream",
          "name": "stdout",
          "text": [
            "Requirement already satisfied: psutil in /usr/local/lib/python3.10/dist-packages (5.9.5)\n"
          ]
        }
      ]
    },
    {
      "cell_type": "code",
      "execution_count": 2,
      "metadata": {
        "colab": {
          "base_uri": "https://localhost:8080/"
        },
        "id": "yxnxQyLrCqp_",
        "outputId": "c47476b2-ebbd-46cb-808f-8a8d757ff38f"
      },
      "outputs": [
        {
          "output_type": "stream",
          "name": "stdout",
          "text": [
            "Диск: /dev/root\n",
            "  Точка монтирования: /usr/sbin/docker-init\n",
            "  Файловая система: ext2\n",
            "  Размер: 1.93 GB\n",
            "  Использовано: 1.13 GB\n",
            "  Свободно: 0.80 GB\n",
            "  Процент использования: 58.5%\n",
            "\n",
            "Диск: /dev/sda1\n",
            "  Точка монтирования: /etc/resolv.conf\n",
            "  Файловая система: ext4\n",
            "  Размер: 76.54 GB\n",
            "  Использовано: 60.84 GB\n",
            "  Свободно: 15.68 GB\n",
            "  Процент использования: 79.5%\n",
            "\n",
            "Диск: /dev/sda1\n",
            "  Точка монтирования: /etc/hostname\n",
            "  Файловая система: ext4\n",
            "  Размер: 76.54 GB\n",
            "  Использовано: 60.84 GB\n",
            "  Свободно: 15.68 GB\n",
            "  Процент использования: 79.5%\n",
            "\n",
            "Диск: /dev/sda1\n",
            "  Точка монтирования: /etc/hosts\n",
            "  Файловая система: ext4\n",
            "  Размер: 76.54 GB\n",
            "  Использовано: 60.84 GB\n",
            "  Свободно: 15.68 GB\n",
            "  Процент использования: 79.5%\n",
            "\n"
          ]
        }
      ],
      "source": [
        "import psutil\n",
        "\n",
        "def get_disk_info():\n",
        "    partitions = psutil.disk_partitions()\n",
        "\n",
        "    for partition in partitions:\n",
        "        print(f\"Диск: {partition.device}\")\n",
        "        print(f\"  Точка монтирования: {partition.mountpoint}\")\n",
        "        print(f\"  Файловая система: {partition.fstype}\")\n",
        "\n",
        "        try:\n",
        "            usage = psutil.disk_usage(partition.mountpoint)\n",
        "            print(f\"  Размер: {usage.total / (1024 ** 3):.2f} GB\")\n",
        "            print(f\"  Использовано: {usage.used / (1024 ** 3):.2f} GB\")\n",
        "            print(f\"  Свободно: {usage.free / (1024 ** 3):.2f} GB\")\n",
        "            print(f\"  Процент использования: {usage.percent}%\")\n",
        "        except PermissionError:\n",
        "            print(\"  Нет доступа для получения информации о диске.\")\n",
        "\n",
        "        print()\n",
        "\n",
        "get_disk_info()"
      ]
    },
    {
      "cell_type": "markdown",
      "source": [
        "2. Работа  с файлами ( класс File, FileInfo, FileStream и другие)\n",
        "  1. Создать файл\n",
        "  2. Записать в файл строку, введённую пользователем\n",
        "  3. Прочитать файл в консоль\n",
        "  4. Удалить файл"
      ],
      "metadata": {
        "id": "8JI1EblyDtTQ"
      }
    },
    {
      "cell_type": "code",
      "source": [
        "import os\n",
        "filename = \"example.txt\""
      ],
      "metadata": {
        "id": "gcS7WFZVEnWo"
      },
      "execution_count": 44,
      "outputs": []
    },
    {
      "cell_type": "code",
      "source": [
        "def create_file(filename):\n",
        "    with open(filename, 'w') as file:\n",
        "        pass\n",
        "\n",
        "\n",
        "print(\"До создания файла:\")\n",
        "!ls\n",
        "\n",
        "# 1. Создать файл (пустой)\n",
        "create_file(filename)\n",
        "\n",
        "print(\"После создания файла:\")\n",
        "!ls"
      ],
      "metadata": {
        "colab": {
          "base_uri": "https://localhost:8080/"
        },
        "id": "6Rdf2nttErA5",
        "outputId": "8ac57df5-b022-4766-cbc2-f8612b21bbf5"
      },
      "execution_count": 45,
      "outputs": [
        {
          "output_type": "stream",
          "name": "stdout",
          "text": [
            "До создания файла:\n",
            "data.xml  sample_data\n",
            "После создания файла:\n",
            "data.xml  example.txt  sample_data\n"
          ]
        }
      ]
    },
    {
      "cell_type": "code",
      "source": [
        "def write_to_file(filename, content):\n",
        "    with open(filename, 'w') as file:\n",
        "        file.write(content)\n",
        "\n",
        "\n",
        "# 2. Записать в файл строку, введённую пользователем\n",
        "user_input = input(\"Введите строку для записи в файл: \")\n",
        "write_to_file(filename, user_input)"
      ],
      "metadata": {
        "colab": {
          "base_uri": "https://localhost:8080/"
        },
        "id": "TW2k3Z5uE0km",
        "outputId": "de4dbad8-65e1-40ce-da79-d6345a47f510"
      },
      "execution_count": 46,
      "outputs": [
        {
          "name": "stdout",
          "output_type": "stream",
          "text": [
            "Введите строку для записи в файл: пыпвап\n"
          ]
        }
      ]
    },
    {
      "cell_type": "code",
      "source": [
        "def read_file(filename):\n",
        "    with open(filename, 'r') as file:\n",
        "        content = file.read()\n",
        "        print(content)\n",
        "\n",
        "\n",
        "# 3. Прочитать файл в консоль\n",
        "print(\"Содержимое файла:\")\n",
        "read_file(filename)"
      ],
      "metadata": {
        "colab": {
          "base_uri": "https://localhost:8080/"
        },
        "id": "8JYjTnLEFKIv",
        "outputId": "f65f7f05-fd5a-4818-d23e-52426296521e"
      },
      "execution_count": 47,
      "outputs": [
        {
          "output_type": "stream",
          "name": "stdout",
          "text": [
            "Содержимое файла:\n",
            "пыпвап\n"
          ]
        }
      ]
    },
    {
      "cell_type": "code",
      "source": [
        "def delete_file(filename):\n",
        "    if os.path.exists(filename):\n",
        "        os.remove(filename)\n",
        "    else:\n",
        "        print(f\"Файл {filename} не существует.\")\n",
        "\n",
        "\n",
        "# 4. Удалить файл\n",
        "delete_file(filename)\n",
        "print(f\"Файл {filename} удалён.\")"
      ],
      "metadata": {
        "colab": {
          "base_uri": "https://localhost:8080/"
        },
        "id": "2uWxfNLAFPVr",
        "outputId": "f9543039-cd0c-49c9-8723-ba5f4789d486"
      },
      "execution_count": 48,
      "outputs": [
        {
          "output_type": "stream",
          "name": "stdout",
          "text": [
            "Файл example.txt удалён.\n"
          ]
        }
      ]
    },
    {
      "cell_type": "markdown",
      "source": [
        "3. Работа с форматом JSON\n",
        "  1. Создать файл формате JSON в любом редакторе или с использованием данных, введенных пользователем\n",
        "  2. Создать новый объект. Выполнить сериализацию объекта в формате JSON и записать в файл.\n",
        "  3. Прочитать файл в консоль\n",
        "  4. Удалить файл"
      ],
      "metadata": {
        "id": "tLNS8yEfFhyB"
      }
    },
    {
      "cell_type": "code",
      "source": [
        "import json\n",
        "filename = \"data.json\""
      ],
      "metadata": {
        "id": "pRm9P2yyF2t5"
      },
      "execution_count": 49,
      "outputs": []
    },
    {
      "cell_type": "code",
      "source": [
        "# {\"some\": \"some\"}\n",
        "# Создать новый объект\n",
        "user_input = input(\"Введите данные в формате JSON (например, {\\\"ключ\\\": \\\"значение\\\"}): \")\n",
        "try:\n",
        "    data = json.loads(user_input)\n",
        "    print(data)\n",
        "except json.JSONDecodeError:\n",
        "    print(\"Ошибка: введены некорректные данные JSON.\")"
      ],
      "metadata": {
        "colab": {
          "base_uri": "https://localhost:8080/"
        },
        "id": "0NvqY1WsF6LQ",
        "outputId": "00737dc6-dac2-468f-e4ce-382fe7da1dd1"
      },
      "execution_count": 50,
      "outputs": [
        {
          "output_type": "stream",
          "name": "stdout",
          "text": [
            "Введите данные в формате JSON (например, {\"ключ\": \"значение\"}): {\"some\": \"some\"}\n",
            "{'some': 'some'}\n"
          ]
        }
      ]
    },
    {
      "cell_type": "code",
      "source": [
        "def create_json_file(filename, data):\n",
        "    with open(filename, 'w', encoding='utf-8') as file:\n",
        "        json.dump(data, file, ensure_ascii=False, indent=4)\n",
        "\n",
        "\n",
        "# Выполнить сериализацию объекта в формате JSON и записать в файл\n",
        "create_json_file(filename, data)"
      ],
      "metadata": {
        "id": "75xWEJ8uGXU2"
      },
      "execution_count": 51,
      "outputs": []
    },
    {
      "cell_type": "code",
      "source": [
        "def read_json_file(filename):\n",
        "    with open(filename, 'r', encoding='utf-8') as file:\n",
        "        data = json.load(file)\n",
        "        print(json.dumps(data, indent=4))\n",
        "\n",
        "\n",
        "# Прочитать файл в консоль\n",
        "print(\"Содержимое файла JSON:\")\n",
        "read_json_file(filename)"
      ],
      "metadata": {
        "colab": {
          "base_uri": "https://localhost:8080/"
        },
        "id": "XkJ42-oFHC6F",
        "outputId": "2663d06c-eb5d-4912-8895-7233113c6534"
      },
      "execution_count": 25,
      "outputs": [
        {
          "output_type": "stream",
          "name": "stdout",
          "text": [
            "Содержимое файла JSON:\n",
            "{\n",
            "    \"some\": \"some\"\n",
            "}\n"
          ]
        }
      ]
    },
    {
      "cell_type": "code",
      "source": [
        "def delete_file(filename):\n",
        "    if os.path.exists(filename):\n",
        "        os.remove(filename)\n",
        "    else:\n",
        "        print(f\"Файл {filename} не существует.\")\n",
        "\n",
        "\n",
        "# Удалить файл\n",
        "delete_file(filename)\n",
        "print(f\"Файл {filename} удалён.\")"
      ],
      "metadata": {
        "colab": {
          "base_uri": "https://localhost:8080/"
        },
        "id": "-W-5ZvsoHamP",
        "outputId": "b3ce346f-0ead-4238-ef73-961138c0fe7f"
      },
      "execution_count": 52,
      "outputs": [
        {
          "output_type": "stream",
          "name": "stdout",
          "text": [
            "Файл data.json удалён.\n"
          ]
        }
      ]
    },
    {
      "cell_type": "markdown",
      "source": [
        "4. Работа с форматом XML\n",
        "  1. Создать файл формате XML  из редактора\n",
        "  2. Записать в файл новые данные из консоли .\n",
        "  3. Прочитать файл в консоль.\n",
        "  4. Удалить файл."
      ],
      "metadata": {
        "id": "TfIqT9KcHlNv"
      }
    },
    {
      "cell_type": "code",
      "source": [
        "import xml.etree.ElementTree as ET\n",
        "filename = \"data.xml\""
      ],
      "metadata": {
        "id": "yxXRWuzjIgCW"
      },
      "execution_count": 53,
      "outputs": []
    },
    {
      "cell_type": "code",
      "source": [
        "def create_xml_file(filename):\n",
        "    root = ET.Element(\"data\")\n",
        "\n",
        "    tree = ET.ElementTree(root)\n",
        "    tree.write(filename, encoding='utf-8', xml_declaration=True)\n",
        "\n",
        "\n",
        "# Создать файл в формате XML\n",
        "create_xml_file(filename)"
      ],
      "metadata": {
        "id": "skZuUOhpIoZw"
      },
      "execution_count": 55,
      "outputs": []
    },
    {
      "cell_type": "code",
      "source": [
        "def add_data_to_xml(filename, tag, text):\n",
        "    tree = ET.parse(filename)\n",
        "    root = tree.getroot()\n",
        "\n",
        "    new_element = ET.Element(tag)\n",
        "    new_element.text = text\n",
        "    root.append(new_element)\n",
        "\n",
        "    tree.write(filename, encoding='utf-8', xml_declaration=True)\n",
        "\n",
        "\n",
        "tag = input(\"Введите имя тега: \")\n",
        "text = input(\"Введите текст для тега: \")\n",
        "\n",
        "# Записать новые данные в файл\n",
        "add_data_to_xml(filename, tag, text)"
      ],
      "metadata": {
        "colab": {
          "base_uri": "https://localhost:8080/"
        },
        "id": "dbDJc-FuJBmv",
        "outputId": "c8647e4f-1fbb-4951-fdde-868bbf752300"
      },
      "execution_count": 56,
      "outputs": [
        {
          "name": "stdout",
          "output_type": "stream",
          "text": [
            "Введите имя тега: name</xml>\n",
            "Введите текст для тега: hjhjh</xml>\n"
          ]
        }
      ]
    },
    {
      "cell_type": "code",
      "source": [
        "def read_xml_file(filename):\n",
        "    tree = ET.parse(filename)\n",
        "    root = tree.getroot()\n",
        "\n",
        "    for elem in root:\n",
        "        print(f\"{elem.tag}: {elem.text}\")\n",
        "\n",
        "\n",
        "# Чтение файла и вывод в консоль\n",
        "print(\"Содержимое файла XML:\")\n",
        "read_xml_file(filename)"
      ],
      "metadata": {
        "colab": {
          "base_uri": "https://localhost:8080/",
          "height": 384
        },
        "id": "FUftgohdJmJT",
        "outputId": "daf64549-08a0-4afd-c0f0-b04c9645396e"
      },
      "execution_count": 57,
      "outputs": [
        {
          "output_type": "stream",
          "name": "stdout",
          "text": [
            "Содержимое файла XML:\n"
          ]
        },
        {
          "output_type": "error",
          "ename": "ParseError",
          "evalue": "not well-formed (invalid token): line 2, column 11 (<string>)",
          "traceback": [
            "Traceback \u001b[0;36m(most recent call last)\u001b[0m:\n",
            "  File \u001b[1;32m\"/usr/local/lib/python3.10/dist-packages/IPython/core/interactiveshell.py\"\u001b[0m, line \u001b[1;32m3553\u001b[0m, in \u001b[1;35mrun_code\u001b[0m\n    exec(code_obj, self.user_global_ns, self.user_ns)\n",
            "  File \u001b[1;32m\"<ipython-input-57-28b3ea439d93>\"\u001b[0m, line \u001b[1;32m11\u001b[0m, in \u001b[1;35m<cell line: 11>\u001b[0m\n    read_xml_file(filename)\n",
            "  File \u001b[1;32m\"<ipython-input-57-28b3ea439d93>\"\u001b[0m, line \u001b[1;32m2\u001b[0m, in \u001b[1;35mread_xml_file\u001b[0m\n    tree = ET.parse(filename)\n",
            "  File \u001b[1;32m\"/usr/lib/python3.10/xml/etree/ElementTree.py\"\u001b[0m, line \u001b[1;32m1222\u001b[0m, in \u001b[1;35mparse\u001b[0m\n    tree.parse(source, parser)\n",
            "\u001b[0;36m  File \u001b[0;32m\"/usr/lib/python3.10/xml/etree/ElementTree.py\"\u001b[0;36m, line \u001b[0;32m580\u001b[0;36m, in \u001b[0;35mparse\u001b[0;36m\u001b[0m\n\u001b[0;31m    self._root = parser._parse_whole(source)\u001b[0m\n",
            "\u001b[0;36m  File \u001b[0;32m\"<string>\"\u001b[0;36m, line \u001b[0;32munknown\u001b[0m\n\u001b[0;31mParseError\u001b[0m\u001b[0;31m:\u001b[0m not well-formed (invalid token): line 2, column 11\n"
          ]
        }
      ]
    },
    {
      "cell_type": "code",
      "source": [
        "def delete_file(filename):\n",
        "    # Удаляем файл\n",
        "    if os.path.exists(filename):\n",
        "        os.remove(filename)\n",
        "    else:\n",
        "        print(f\"Файл {filename} не существует.\")\n",
        "\n",
        "\n",
        "# Удаляем файл\n",
        "delete_file(filename)\n",
        "print(f\"Файл {filename} удалён.\")"
      ],
      "metadata": {
        "colab": {
          "base_uri": "https://localhost:8080/"
        },
        "id": "r9b723VaJr57",
        "outputId": "8c971974-ec95-40fd-c79c-9a09636694f0"
      },
      "execution_count": 58,
      "outputs": [
        {
          "output_type": "stream",
          "name": "stdout",
          "text": [
            "Файл data.xml удалён.\n"
          ]
        }
      ]
    },
    {
      "cell_type": "markdown",
      "source": [
        "5. Создание zip архива, добавление туда файла, определение размера архива\n",
        "  1. Создать архив в форматер zip\n",
        "  2. Добавить файл, выбранный пользователем, в архив\n",
        "  3. Разархивировать файл и вывести данные о нем\n",
        "  4. Удалить файл и архив\n"
      ],
      "metadata": {
        "id": "GhOX9_MLHzc3"
      }
    },
    {
      "cell_type": "code",
      "source": [
        "import zipfile\n",
        "\n",
        "create_file(\"test.txt\")\n",
        "file_path = \"test.txt\"\n",
        "archive_name = 'test.zip'"
      ],
      "metadata": {
        "id": "4KF9c1E-KAJP"
      },
      "execution_count": 59,
      "outputs": []
    },
    {
      "cell_type": "code",
      "source": [
        "def create_zip_and_add_file(archive_name_, file_path):\n",
        "    with zipfile.ZipFile(archive_name_, 'w') as zipf:\n",
        "        zipf.write(file_path, os.path.basename(file_path))\n",
        "        print(f\"Файл {file_path} добавлен в архив {archive_name_}.\")\n",
        "\n",
        "    archive_size = os.path.getsize(archive_name_)\n",
        "    print(f\"Размер архива {archive_name_}: {archive_size} байт.\")\n",
        "\n",
        "\n",
        "# Создать архив и добавить файл\n",
        "create_zip_and_add_file(archive_name, file_path)"
      ],
      "metadata": {
        "colab": {
          "base_uri": "https://localhost:8080/"
        },
        "id": "3GYMr1eHKaEZ",
        "outputId": "daa5b94b-9ed2-4e10-9443-c3e28cb80602"
      },
      "execution_count": 60,
      "outputs": [
        {
          "output_type": "stream",
          "name": "stdout",
          "text": [
            "Файл test.txt добавлен в архив test.zip.\n",
            "Размер архива test.zip: 114 байт.\n"
          ]
        }
      ]
    },
    {
      "cell_type": "code",
      "source": [
        "def extract_file_from_zip(archive_name, extract_to='.'):\n",
        "    with zipfile.ZipFile(archive_name, 'r') as zipf:\n",
        "        zipf.extractall(extract_to)\n",
        "        print(f\"Файлы извлечены в директорию '{extract_to}'.\")\n",
        "\n",
        "\n",
        "# Извлечение файла из архива\n",
        "extract_file_from_zip(archive_name, \"/content\")"
      ],
      "metadata": {
        "colab": {
          "base_uri": "https://localhost:8080/"
        },
        "id": "IdCuwp00Kww_",
        "outputId": "fd803a79-2cdf-4146-e151-5ee1252d0cf2"
      },
      "execution_count": 61,
      "outputs": [
        {
          "output_type": "stream",
          "name": "stdout",
          "text": [
            "Файлы извлечены в директорию '/content'.\n"
          ]
        }
      ]
    },
    {
      "cell_type": "code",
      "source": [
        "def delete_file(file_path):\n",
        "    if os.path.exists(file_path):\n",
        "        os.remove(file_path)\n",
        "        print(f\"Файл {file_path} удален.\")\n",
        "    else:\n",
        "        print(f\"Файл {file_path} не найден.\")\n",
        "\n",
        "\n",
        "# Удаление исходного файла и архива\n",
        "delete_file(file_path)\n",
        "delete_file(archive_name)"
      ],
      "metadata": {
        "colab": {
          "base_uri": "https://localhost:8080/"
        },
        "id": "rtes7eAHLOMG",
        "outputId": "c71041b6-78b1-4ce8-bd3d-2e07b67e022e"
      },
      "execution_count": 62,
      "outputs": [
        {
          "output_type": "stream",
          "name": "stdout",
          "text": [
            "Файл test.txt удален.\n",
            "Файл test.zip удален.\n"
          ]
        }
      ]
    }
  ]
}