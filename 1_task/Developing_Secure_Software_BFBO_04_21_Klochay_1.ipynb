{
  "nbformat": 4,
  "nbformat_minor": 0,
  "metadata": {
    "colab": {
      "provenance": []
    },
    "kernelspec": {
      "name": "python3",
      "display_name": "Python 3"
    },
    "language_info": {
      "name": "python"
    }
  },
  "cells": [
    {
      "cell_type": "markdown",
      "source": [
        "https://sdlc.yonote.ru/share/OS_Lab_1"
      ],
      "metadata": {
        "id": "RFz26Zk_SlU_"
      }
    },
    {
      "cell_type": "markdown",
      "source": [
        "1. Вывести информацию в консоль о логических дисках, именах, метке тома, размере и типе файловой системы."
      ],
      "metadata": {
        "id": "Iat34G4zC89F"
      }
    },
    {
      "cell_type": "code",
      "source": [
        "!pip install psutil==5.9.5"
      ],
      "metadata": {
        "colab": {
          "base_uri": "https://localhost:8080/"
        },
        "id": "nMh8O92DDMpy",
        "outputId": "59a9d2cc-7c17-442d-def3-98c692a2b8bc"
      },
      "execution_count": null,
      "outputs": [
        {
          "output_type": "stream",
          "name": "stdout",
          "text": [
            "Requirement already satisfied: psutil in /usr/local/lib/python3.10/dist-packages (5.9.5)\n"
          ]
        }
      ]
    },
    {
      "cell_type": "code",
      "execution_count": 1,
      "metadata": {
        "colab": {
          "base_uri": "https://localhost:8080/"
        },
        "id": "yxnxQyLrCqp_",
        "outputId": "d1247010-bbe2-4e90-df15-ecdafff72660"
      },
      "outputs": [
        {
          "output_type": "stream",
          "name": "stdout",
          "text": [
            "Диск: /dev/root\n",
            "  Точка монтирования: /usr/sbin/docker-init\n",
            "  Файловая система: ext2\n",
            "  Размер: 1.93 GB\n",
            "  Использовано: 1.13 GB\n",
            "  Свободно: 0.80 GB\n",
            "  Процент использования: 58.5%\n",
            "\n",
            "Диск: /dev/sda1\n",
            "  Точка монтирования: /etc/resolv.conf\n",
            "  Файловая система: ext4\n",
            "  Размер: 76.54 GB\n",
            "  Использовано: 56.60 GB\n",
            "  Свободно: 19.92 GB\n",
            "  Процент использования: 74.0%\n",
            "\n",
            "Диск: /dev/sda1\n",
            "  Точка монтирования: /etc/hostname\n",
            "  Файловая система: ext4\n",
            "  Размер: 76.54 GB\n",
            "  Использовано: 56.60 GB\n",
            "  Свободно: 19.92 GB\n",
            "  Процент использования: 74.0%\n",
            "\n",
            "Диск: /dev/sda1\n",
            "  Точка монтирования: /etc/hosts\n",
            "  Файловая система: ext4\n",
            "  Размер: 76.54 GB\n",
            "  Использовано: 56.60 GB\n",
            "  Свободно: 19.92 GB\n",
            "  Процент использования: 74.0%\n",
            "\n"
          ]
        }
      ],
      "source": [
        "import psutil\n",
        "\n",
        "def get_disk_info():\n",
        "    partitions = psutil.disk_partitions()\n",
        "\n",
        "    for partition in partitions:\n",
        "        print(f\"Диск: {partition.device}\")\n",
        "        print(f\"  Точка монтирования: {partition.mountpoint}\")\n",
        "        print(f\"  Файловая система: {partition.fstype}\")\n",
        "\n",
        "        try:\n",
        "            usage = psutil.disk_usage(partition.mountpoint)\n",
        "            print(f\"  Размер: {usage.total / (1024 ** 3):.2f} GB\")\n",
        "            print(f\"  Использовано: {usage.used / (1024 ** 3):.2f} GB\")\n",
        "            print(f\"  Свободно: {usage.free / (1024 ** 3):.2f} GB\")\n",
        "            print(f\"  Процент использования: {usage.percent}%\")\n",
        "        except PermissionError:\n",
        "            print(\"  Нет доступа для получения информации о диске.\")\n",
        "\n",
        "        print()\n",
        "\n",
        "get_disk_info()"
      ]
    },
    {
      "cell_type": "markdown",
      "source": [
        "2. Работа  с файлами ( класс File, FileInfo, FileStream и другие)\n",
        "  1. Создать файл\n",
        "  2. Записать в файл строку, введённую пользователем\n",
        "  3. Прочитать файл в консоль\n",
        "  4. Удалить файл"
      ],
      "metadata": {
        "id": "8JI1EblyDtTQ"
      }
    },
    {
      "cell_type": "code",
      "source": [
        "import os\n",
        "filename = \"example.txt\""
      ],
      "metadata": {
        "id": "gcS7WFZVEnWo"
      },
      "execution_count": 2,
      "outputs": []
    },
    {
      "cell_type": "code",
      "source": [
        "def create_file(filename):\n",
        "    with open(filename, 'w') as file:\n",
        "        pass\n",
        "\n",
        "\n",
        "print(\"До создания файла:\")\n",
        "!ls\n",
        "\n",
        "# 1. Создать файл (пустой)\n",
        "create_file(filename)\n",
        "\n",
        "print(\"После создания файла:\")\n",
        "!ls"
      ],
      "metadata": {
        "colab": {
          "base_uri": "https://localhost:8080/"
        },
        "id": "6Rdf2nttErA5",
        "outputId": "c99e5b3c-2be3-4e75-96b6-f3509b4074d7"
      },
      "execution_count": 3,
      "outputs": [
        {
          "output_type": "stream",
          "name": "stdout",
          "text": [
            "До создания файла:\n",
            "sample_data\n",
            "После создания файла:\n",
            "example.txt  sample_data\n"
          ]
        }
      ]
    },
    {
      "cell_type": "code",
      "source": [
        "def write_to_file(filename, content):\n",
        "    with open(filename, 'w') as file:\n",
        "        file.write(content)\n",
        "\n",
        "\n",
        "# 2. Записать в файл строку, введённую пользователем\n",
        "user_input = input(\"Введите строку для записи в файл: \")\n",
        "write_to_file(filename, user_input)"
      ],
      "metadata": {
        "colab": {
          "base_uri": "https://localhost:8080/"
        },
        "id": "TW2k3Z5uE0km",
        "outputId": "4e5ea859-987f-45f2-d549-e37979f1d008"
      },
      "execution_count": 4,
      "outputs": [
        {
          "name": "stdout",
          "output_type": "stream",
          "text": [
            "Введите строку для записи в файл: gdfgf\n"
          ]
        }
      ]
    },
    {
      "cell_type": "code",
      "source": [
        "def read_file(filename):\n",
        "    with open(filename, 'r') as file:\n",
        "        content = file.read()\n",
        "        print(content)\n",
        "\n",
        "\n",
        "# 3. Прочитать файл в консоль\n",
        "print(\"Содержимое файла:\")\n",
        "read_file(filename)"
      ],
      "metadata": {
        "colab": {
          "base_uri": "https://localhost:8080/"
        },
        "id": "8JYjTnLEFKIv",
        "outputId": "df273882-e860-42cb-b641-dbf81d51a181"
      },
      "execution_count": 5,
      "outputs": [
        {
          "output_type": "stream",
          "name": "stdout",
          "text": [
            "Содержимое файла:\n",
            "gdfgf\n"
          ]
        }
      ]
    },
    {
      "cell_type": "code",
      "source": [
        "def delete_file(filename):\n",
        "    if os.path.exists(filename):\n",
        "        os.remove(filename)\n",
        "    else:\n",
        "        print(f\"Файл {filename} не существует.\")\n",
        "\n",
        "\n",
        "# 4. Удалить файл\n",
        "delete_file(filename)\n",
        "print(f\"Файл {filename} удалён.\")"
      ],
      "metadata": {
        "colab": {
          "base_uri": "https://localhost:8080/"
        },
        "id": "2uWxfNLAFPVr",
        "outputId": "2e5e9506-ea56-4d5e-fb5d-0d69f538306b"
      },
      "execution_count": 6,
      "outputs": [
        {
          "output_type": "stream",
          "name": "stdout",
          "text": [
            "Файл example.txt удалён.\n"
          ]
        }
      ]
    },
    {
      "cell_type": "markdown",
      "source": [
        "3. Работа с форматом JSON\n",
        "  1. Создать файл формате JSON в любом редакторе или с использованием данных, введенных пользователем\n",
        "  2. Создать новый объект. Выполнить сериализацию объекта в формате JSON и записать в файл.\n",
        "  3. Прочитать файл в консоль\n",
        "  4. Удалить файл"
      ],
      "metadata": {
        "id": "tLNS8yEfFhyB"
      }
    },
    {
      "cell_type": "code",
      "source": [
        "import json\n",
        "filename = \"data.json\""
      ],
      "metadata": {
        "id": "pRm9P2yyF2t5"
      },
      "execution_count": 7,
      "outputs": []
    },
    {
      "cell_type": "code",
      "source": [
        "# {\"some\": \"some\"}\n",
        "# Создать новый объект\n",
        "user_input = input(\"Введите данные в формате JSON (например, {\\\"ключ\\\": \\\"значение\\\"}): \")\n",
        "try:\n",
        "    data = json.loads(user_input)\n",
        "    print(data)\n",
        "except json.JSONDecodeError:\n",
        "    print(\"Ошибка: введены некорректные данные JSON.\")"
      ],
      "metadata": {
        "colab": {
          "base_uri": "https://localhost:8080/"
        },
        "id": "0NvqY1WsF6LQ",
        "outputId": "991d4063-05e4-42a9-fd71-aada7376a531"
      },
      "execution_count": 9,
      "outputs": [
        {
          "output_type": "stream",
          "name": "stdout",
          "text": [
            "Введите данные в формате JSON (например, {\"ключ\": \"значение\"}): {\"ключ\": \"значение\"}\n",
            "{'ключ': 'значение'}\n"
          ]
        }
      ]
    },
    {
      "cell_type": "code",
      "source": [
        "def create_json_file(filename, data):\n",
        "    with open(filename, 'w', encoding='utf-8') as file:\n",
        "        json.dump(data, file, ensure_ascii=False, indent=4)\n",
        "\n",
        "\n",
        "# Выполнить сериализацию объекта в формате JSON и записать в файл\n",
        "create_json_file(filename, data)"
      ],
      "metadata": {
        "id": "75xWEJ8uGXU2"
      },
      "execution_count": 10,
      "outputs": []
    },
    {
      "cell_type": "code",
      "source": [
        "def read_json_file(filename):\n",
        "    with open(filename, 'r', encoding='utf-8') as file:\n",
        "        data = json.load(file)\n",
        "        print(json.dumps(data, ensure_ascii=False, indent=4))\n",
        "\n",
        "\n",
        "# Прочитать файл в консоль\n",
        "print(\"Содержимое файла JSON:\")\n",
        "read_json_file(filename)"
      ],
      "metadata": {
        "colab": {
          "base_uri": "https://localhost:8080/"
        },
        "id": "XkJ42-oFHC6F",
        "outputId": "2d45992b-f713-42b1-e075-6b4e6649f4e9"
      },
      "execution_count": 12,
      "outputs": [
        {
          "output_type": "stream",
          "name": "stdout",
          "text": [
            "Содержимое файла JSON:\n",
            "{\n",
            "    \"ключ\": \"значение\"\n",
            "}\n"
          ]
        }
      ]
    },
    {
      "cell_type": "code",
      "source": [
        "def delete_file(filename):\n",
        "    if os.path.exists(filename):\n",
        "        os.remove(filename)\n",
        "    else:\n",
        "        print(f\"Файл {filename} не существует.\")\n",
        "\n",
        "\n",
        "# Удалить файл\n",
        "delete_file(filename)\n",
        "print(f\"Файл {filename} удалён.\")"
      ],
      "metadata": {
        "colab": {
          "base_uri": "https://localhost:8080/"
        },
        "id": "-W-5ZvsoHamP",
        "outputId": "60105ec3-6c3f-42aa-d736-aaa4770b79f5"
      },
      "execution_count": 13,
      "outputs": [
        {
          "output_type": "stream",
          "name": "stdout",
          "text": [
            "Файл data.json удалён.\n"
          ]
        }
      ]
    },
    {
      "cell_type": "markdown",
      "source": [
        "4. Работа с форматом XML\n",
        "  1. Создать файл формате XML  из редактора\n",
        "  2. Записать в файл новые данные из консоли .\n",
        "  3. Прочитать файл в консоль.\n",
        "  4. Удалить файл."
      ],
      "metadata": {
        "id": "TfIqT9KcHlNv"
      }
    },
    {
      "cell_type": "code",
      "source": [
        "import xml.etree.ElementTree as ET\n",
        "filename = \"data.xml\""
      ],
      "metadata": {
        "id": "yxXRWuzjIgCW"
      },
      "execution_count": 14,
      "outputs": []
    },
    {
      "cell_type": "code",
      "source": [
        "def create_xml_file(filename):\n",
        "    root = ET.Element(\"data\")\n",
        "\n",
        "    tree = ET.ElementTree(root)\n",
        "    tree.write(filename, encoding='utf-8', xml_declaration=True)\n",
        "\n",
        "\n",
        "# Создать файл в формате XML\n",
        "create_xml_file(filename)"
      ],
      "metadata": {
        "id": "skZuUOhpIoZw"
      },
      "execution_count": 15,
      "outputs": []
    },
    {
      "cell_type": "code",
      "source": [
        "def add_data_to_xml(filename, tag, text):\n",
        "    tree = ET.parse(filename)\n",
        "    root = tree.getroot()\n",
        "\n",
        "    new_element = ET.Element(tag)\n",
        "    new_element.text = text\n",
        "    root.append(new_element)\n",
        "\n",
        "    tree.write(filename, encoding='utf-8', xml_declaration=True)\n",
        "\n",
        "\n",
        "tag = input(\"Введите имя тега: \")\n",
        "text = input(\"Введите текст для тега: \")\n",
        "\n",
        "# Записать новые данные в файл\n",
        "add_data_to_xml(filename, tag, text)"
      ],
      "metadata": {
        "colab": {
          "base_uri": "https://localhost:8080/"
        },
        "id": "dbDJc-FuJBmv",
        "outputId": "f659bcda-d45f-48b4-c04f-cf5274c037e1"
      },
      "execution_count": 16,
      "outputs": [
        {
          "name": "stdout",
          "output_type": "stream",
          "text": [
            "Введите имя тега: name</xml>\n",
            "Введите текст для тега: dsa</xml>\n"
          ]
        }
      ]
    },
    {
      "cell_type": "code",
      "source": [
        "def read_xml_file(filename):\n",
        "    tree = ET.parse(filename)\n",
        "    root = tree.getroot()\n",
        "\n",
        "    for elem in root:\n",
        "        print(f\"{elem.tag}: {elem.text}\")\n",
        "\n",
        "\n",
        "# Чтение файла и вывод в консоль\n",
        "print(\"Содержимое файла XML:\")\n",
        "read_xml_file(filename)"
      ],
      "metadata": {
        "colab": {
          "base_uri": "https://localhost:8080/",
          "height": 384
        },
        "id": "FUftgohdJmJT",
        "outputId": "11dbbac7-3633-4d60-908a-756cfa0c8a6c"
      },
      "execution_count": 17,
      "outputs": [
        {
          "output_type": "stream",
          "name": "stdout",
          "text": [
            "Содержимое файла XML:\n"
          ]
        },
        {
          "output_type": "error",
          "ename": "ParseError",
          "evalue": "not well-formed (invalid token): line 2, column 11 (<string>)",
          "traceback": [
            "Traceback \u001b[0;36m(most recent call last)\u001b[0m:\n",
            "  File \u001b[1;32m\"/usr/local/lib/python3.10/dist-packages/IPython/core/interactiveshell.py\"\u001b[0m, line \u001b[1;32m3553\u001b[0m, in \u001b[1;35mrun_code\u001b[0m\n    exec(code_obj, self.user_global_ns, self.user_ns)\n",
            "  File \u001b[1;32m\"<ipython-input-17-28b3ea439d93>\"\u001b[0m, line \u001b[1;32m11\u001b[0m, in \u001b[1;35m<cell line: 11>\u001b[0m\n    read_xml_file(filename)\n",
            "  File \u001b[1;32m\"<ipython-input-17-28b3ea439d93>\"\u001b[0m, line \u001b[1;32m2\u001b[0m, in \u001b[1;35mread_xml_file\u001b[0m\n    tree = ET.parse(filename)\n",
            "  File \u001b[1;32m\"/usr/lib/python3.10/xml/etree/ElementTree.py\"\u001b[0m, line \u001b[1;32m1222\u001b[0m, in \u001b[1;35mparse\u001b[0m\n    tree.parse(source, parser)\n",
            "\u001b[0;36m  File \u001b[0;32m\"/usr/lib/python3.10/xml/etree/ElementTree.py\"\u001b[0;36m, line \u001b[0;32m580\u001b[0;36m, in \u001b[0;35mparse\u001b[0;36m\u001b[0m\n\u001b[0;31m    self._root = parser._parse_whole(source)\u001b[0m\n",
            "\u001b[0;36m  File \u001b[0;32m\"<string>\"\u001b[0;36m, line \u001b[0;32munknown\u001b[0m\n\u001b[0;31mParseError\u001b[0m\u001b[0;31m:\u001b[0m not well-formed (invalid token): line 2, column 11\n"
          ]
        }
      ]
    },
    {
      "cell_type": "code",
      "source": [
        "def delete_file(filename):\n",
        "    # Удаляем файл\n",
        "    if os.path.exists(filename):\n",
        "        os.remove(filename)\n",
        "    else:\n",
        "        print(f\"Файл {filename} не существует.\")\n",
        "\n",
        "\n",
        "# Удаляем файл\n",
        "delete_file(filename)\n",
        "print(f\"Файл {filename} удалён.\")"
      ],
      "metadata": {
        "colab": {
          "base_uri": "https://localhost:8080/"
        },
        "id": "r9b723VaJr57",
        "outputId": "f97485b7-55ed-423a-ac41-0fc5a619146b"
      },
      "execution_count": 18,
      "outputs": [
        {
          "output_type": "stream",
          "name": "stdout",
          "text": [
            "Файл data.xml удалён.\n"
          ]
        }
      ]
    },
    {
      "cell_type": "markdown",
      "source": [
        "5. Создание zip архива, добавление туда файла, определение размера архива\n",
        "  1. Создать архив в форматер zip\n",
        "  2. Добавить файл, выбранный пользователем, в архив\n",
        "  3. Разархивировать файл и вывести данные о нем\n",
        "  4. Удалить файл и архив\n"
      ],
      "metadata": {
        "id": "GhOX9_MLHzc3"
      }
    },
    {
      "cell_type": "code",
      "source": [
        "import zipfile\n",
        "\n",
        "create_file(\"test.txt\")\n",
        "file_path = \"test.txt\"\n",
        "archive_name = 'test.zip'"
      ],
      "metadata": {
        "id": "4KF9c1E-KAJP"
      },
      "execution_count": 19,
      "outputs": []
    },
    {
      "cell_type": "code",
      "source": [
        "def create_zip_and_add_file(archive_name_, file_path):\n",
        "    with zipfile.ZipFile(archive_name_, 'w') as zipf:\n",
        "        zipf.write(file_path, os.path.basename(file_path))\n",
        "        print(f\"Файл {file_path} добавлен в архив {archive_name_}.\")\n",
        "\n",
        "    archive_size = os.path.getsize(archive_name_)\n",
        "    print(f\"Размер архива {archive_name_}: {archive_size} байт.\")\n",
        "\n",
        "\n",
        "# Создать архив и добавить файл\n",
        "create_zip_and_add_file(archive_name, file_path)"
      ],
      "metadata": {
        "colab": {
          "base_uri": "https://localhost:8080/"
        },
        "id": "3GYMr1eHKaEZ",
        "outputId": "d08bebf8-0b68-460e-fd42-70642983cd68"
      },
      "execution_count": 20,
      "outputs": [
        {
          "output_type": "stream",
          "name": "stdout",
          "text": [
            "Файл test.txt добавлен в архив test.zip.\n",
            "Размер архива test.zip: 114 байт.\n"
          ]
        }
      ]
    },
    {
      "cell_type": "code",
      "source": [
        "def extract_file_from_zip(archive_name, extract_to='.'):\n",
        "    with zipfile.ZipFile(archive_name, 'r') as zipf:\n",
        "        zipf.extractall(extract_to)\n",
        "        print(f\"Файлы извлечены в директорию '{extract_to}'.\")\n",
        "\n",
        "\n",
        "# Извлечение файла из архива\n",
        "extract_file_from_zip(archive_name, \"/content\")"
      ],
      "metadata": {
        "colab": {
          "base_uri": "https://localhost:8080/"
        },
        "id": "IdCuwp00Kww_",
        "outputId": "c2bbf8dc-8d2e-4e23-9ee1-8005c0fd391a"
      },
      "execution_count": 22,
      "outputs": [
        {
          "output_type": "stream",
          "name": "stdout",
          "text": [
            "Файлы извлечены в директорию '/content'.\n"
          ]
        }
      ]
    },
    {
      "cell_type": "code",
      "source": [
        "def delete_file(file_path):\n",
        "    if os.path.exists(file_path):\n",
        "        os.remove(file_path)\n",
        "        print(f\"Файл {file_path} удален.\")\n",
        "    else:\n",
        "        print(f\"Файл {file_path} не найден.\")\n",
        "\n",
        "\n",
        "# Удаление исходного файла и архива\n",
        "delete_file(file_path)\n",
        "delete_file(archive_name)"
      ],
      "metadata": {
        "colab": {
          "base_uri": "https://localhost:8080/"
        },
        "id": "rtes7eAHLOMG",
        "outputId": "83784c02-18c8-4f39-e952-680c6c91fe55"
      },
      "execution_count": 23,
      "outputs": [
        {
          "output_type": "stream",
          "name": "stdout",
          "text": [
            "Файл test.txt удален.\n",
            "Файл test.zip удален.\n"
          ]
        }
      ]
    }
  ]
}